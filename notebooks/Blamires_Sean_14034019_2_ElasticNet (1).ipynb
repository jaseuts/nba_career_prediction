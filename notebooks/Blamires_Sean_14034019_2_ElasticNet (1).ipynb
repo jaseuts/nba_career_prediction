{
 "cells": [
  {
   "cell_type": "markdown",
   "id": "49c90bc5",
   "metadata": {},
   "source": [
    "Load libraries and data used in week 1"
   ]
  },
  {
   "cell_type": "code",
   "execution_count": 1,
   "id": "fc95d0af",
   "metadata": {},
   "outputs": [],
   "source": [
    "import numpy as np\n",
    "import pandas as pd"
   ]
  },
  {
   "cell_type": "code",
   "execution_count": 2,
   "id": "6751df11",
   "metadata": {},
   "outputs": [
    {
     "name": "stdout",
     "output_type": "stream",
     "text": [
      "Requirement already satisfied: scikit-learn in c:\\users\\z3066824\\anaconda3\\lib\\site-packages (1.0.2)\n",
      "Requirement already satisfied: scipy>=1.1.0 in c:\\users\\z3066824\\anaconda3\\lib\\site-packages (from scikit-learn) (1.6.2)\n",
      "Requirement already satisfied: numpy>=1.14.6 in c:\\users\\z3066824\\anaconda3\\lib\\site-packages (from scikit-learn) (1.20.1)\n",
      "Requirement already satisfied: joblib>=0.11 in c:\\users\\z3066824\\anaconda3\\lib\\site-packages (from scikit-learn) (1.0.1)\n",
      "Requirement already satisfied: threadpoolctl>=2.0.0 in c:\\users\\z3066824\\anaconda3\\lib\\site-packages (from scikit-learn) (2.1.0)\n",
      "Note: you may need to restart the kernel to use updated packages.\n"
     ]
    }
   ],
   "source": [
    "pip install -U scikit-learn"
   ]
  },
  {
   "cell_type": "code",
   "execution_count": 3,
   "id": "f68839ef",
   "metadata": {},
   "outputs": [],
   "source": [
    "path = \"C:\\\\Users\\\\z3066824\\\\OneDrive - UNSW\\Documents\\\\\""
   ]
  },
  {
   "cell_type": "code",
   "execution_count": 4,
   "id": "7a32115f",
   "metadata": {},
   "outputs": [],
   "source": [
    "file = \"train.csv\""
   ]
  },
  {
   "cell_type": "code",
   "execution_count": 5,
   "id": "f4ab75be",
   "metadata": {},
   "outputs": [],
   "source": [
    "df = pd.read_csv(path+file)"
   ]
  },
  {
   "cell_type": "code",
   "execution_count": 6,
   "id": "bbfc9d99",
   "metadata": {},
   "outputs": [
    {
     "data": {
      "text/html": [
       "<div>\n",
       "<style scoped>\n",
       "    .dataframe tbody tr th:only-of-type {\n",
       "        vertical-align: middle;\n",
       "    }\n",
       "\n",
       "    .dataframe tbody tr th {\n",
       "        vertical-align: top;\n",
       "    }\n",
       "\n",
       "    .dataframe thead th {\n",
       "        text-align: right;\n",
       "    }\n",
       "</style>\n",
       "<table border=\"1\" class=\"dataframe\">\n",
       "  <thead>\n",
       "    <tr style=\"text-align: right;\">\n",
       "      <th></th>\n",
       "      <th>Id</th>\n",
       "      <th>GP</th>\n",
       "      <th>MIN</th>\n",
       "      <th>PTS</th>\n",
       "      <th>FGM</th>\n",
       "      <th>FGA</th>\n",
       "      <th>FG%</th>\n",
       "      <th>3P Made</th>\n",
       "      <th>3PA</th>\n",
       "      <th>3P%</th>\n",
       "      <th>...</th>\n",
       "      <th>FTA</th>\n",
       "      <th>FT%</th>\n",
       "      <th>OREB</th>\n",
       "      <th>DREB</th>\n",
       "      <th>REB</th>\n",
       "      <th>AST</th>\n",
       "      <th>STL</th>\n",
       "      <th>BLK</th>\n",
       "      <th>TOV</th>\n",
       "      <th>TARGET_5Yrs</th>\n",
       "    </tr>\n",
       "  </thead>\n",
       "  <tbody>\n",
       "    <tr>\n",
       "      <th>0</th>\n",
       "      <td>10556</td>\n",
       "      <td>80</td>\n",
       "      <td>24.3</td>\n",
       "      <td>7.8</td>\n",
       "      <td>3.0</td>\n",
       "      <td>6.4</td>\n",
       "      <td>45.7</td>\n",
       "      <td>0.1</td>\n",
       "      <td>0.3</td>\n",
       "      <td>22.6</td>\n",
       "      <td>...</td>\n",
       "      <td>2.9</td>\n",
       "      <td>72.1</td>\n",
       "      <td>2.2</td>\n",
       "      <td>2.0</td>\n",
       "      <td>3.8</td>\n",
       "      <td>3.2</td>\n",
       "      <td>1.1</td>\n",
       "      <td>0.2</td>\n",
       "      <td>1.6</td>\n",
       "      <td>1</td>\n",
       "    </tr>\n",
       "    <tr>\n",
       "      <th>1</th>\n",
       "      <td>5342</td>\n",
       "      <td>75</td>\n",
       "      <td>21.8</td>\n",
       "      <td>10.5</td>\n",
       "      <td>4.2</td>\n",
       "      <td>7.9</td>\n",
       "      <td>55.1</td>\n",
       "      <td>-0.3</td>\n",
       "      <td>-1.0</td>\n",
       "      <td>34.9</td>\n",
       "      <td>...</td>\n",
       "      <td>3.6</td>\n",
       "      <td>67.8</td>\n",
       "      <td>3.6</td>\n",
       "      <td>3.7</td>\n",
       "      <td>6.6</td>\n",
       "      <td>0.7</td>\n",
       "      <td>0.5</td>\n",
       "      <td>0.6</td>\n",
       "      <td>1.4</td>\n",
       "      <td>1</td>\n",
       "    </tr>\n",
       "    <tr>\n",
       "      <th>2</th>\n",
       "      <td>5716</td>\n",
       "      <td>85</td>\n",
       "      <td>19.1</td>\n",
       "      <td>4.5</td>\n",
       "      <td>1.9</td>\n",
       "      <td>4.5</td>\n",
       "      <td>42.8</td>\n",
       "      <td>0.4</td>\n",
       "      <td>1.2</td>\n",
       "      <td>34.3</td>\n",
       "      <td>...</td>\n",
       "      <td>0.6</td>\n",
       "      <td>75.7</td>\n",
       "      <td>0.6</td>\n",
       "      <td>1.8</td>\n",
       "      <td>2.4</td>\n",
       "      <td>0.8</td>\n",
       "      <td>0.4</td>\n",
       "      <td>0.2</td>\n",
       "      <td>0.6</td>\n",
       "      <td>1</td>\n",
       "    </tr>\n",
       "    <tr>\n",
       "      <th>3</th>\n",
       "      <td>13790</td>\n",
       "      <td>63</td>\n",
       "      <td>19.1</td>\n",
       "      <td>8.2</td>\n",
       "      <td>3.5</td>\n",
       "      <td>6.7</td>\n",
       "      <td>52.5</td>\n",
       "      <td>0.3</td>\n",
       "      <td>0.8</td>\n",
       "      <td>23.7</td>\n",
       "      <td>...</td>\n",
       "      <td>1.5</td>\n",
       "      <td>66.9</td>\n",
       "      <td>0.8</td>\n",
       "      <td>2.0</td>\n",
       "      <td>3.0</td>\n",
       "      <td>1.8</td>\n",
       "      <td>0.4</td>\n",
       "      <td>0.1</td>\n",
       "      <td>1.9</td>\n",
       "      <td>1</td>\n",
       "    </tr>\n",
       "    <tr>\n",
       "      <th>4</th>\n",
       "      <td>5470</td>\n",
       "      <td>63</td>\n",
       "      <td>17.8</td>\n",
       "      <td>3.7</td>\n",
       "      <td>1.7</td>\n",
       "      <td>3.4</td>\n",
       "      <td>50.8</td>\n",
       "      <td>0.5</td>\n",
       "      <td>1.4</td>\n",
       "      <td>13.7</td>\n",
       "      <td>...</td>\n",
       "      <td>0.5</td>\n",
       "      <td>54.0</td>\n",
       "      <td>2.4</td>\n",
       "      <td>2.7</td>\n",
       "      <td>4.9</td>\n",
       "      <td>0.4</td>\n",
       "      <td>0.4</td>\n",
       "      <td>0.6</td>\n",
       "      <td>0.7</td>\n",
       "      <td>1</td>\n",
       "    </tr>\n",
       "    <tr>\n",
       "      <th>...</th>\n",
       "      <td>...</td>\n",
       "      <td>...</td>\n",
       "      <td>...</td>\n",
       "      <td>...</td>\n",
       "      <td>...</td>\n",
       "      <td>...</td>\n",
       "      <td>...</td>\n",
       "      <td>...</td>\n",
       "      <td>...</td>\n",
       "      <td>...</td>\n",
       "      <td>...</td>\n",
       "      <td>...</td>\n",
       "      <td>...</td>\n",
       "      <td>...</td>\n",
       "      <td>...</td>\n",
       "      <td>...</td>\n",
       "      <td>...</td>\n",
       "      <td>...</td>\n",
       "      <td>...</td>\n",
       "      <td>...</td>\n",
       "      <td>...</td>\n",
       "    </tr>\n",
       "    <tr>\n",
       "      <th>7995</th>\n",
       "      <td>2996</td>\n",
       "      <td>32</td>\n",
       "      <td>9.2</td>\n",
       "      <td>1.8</td>\n",
       "      <td>0.7</td>\n",
       "      <td>1.8</td>\n",
       "      <td>40.3</td>\n",
       "      <td>-0.1</td>\n",
       "      <td>-0.2</td>\n",
       "      <td>23.1</td>\n",
       "      <td>...</td>\n",
       "      <td>0.6</td>\n",
       "      <td>65.7</td>\n",
       "      <td>0.3</td>\n",
       "      <td>1.8</td>\n",
       "      <td>1.9</td>\n",
       "      <td>0.5</td>\n",
       "      <td>0.3</td>\n",
       "      <td>0.2</td>\n",
       "      <td>0.4</td>\n",
       "      <td>1</td>\n",
       "    </tr>\n",
       "    <tr>\n",
       "      <th>7996</th>\n",
       "      <td>11679</td>\n",
       "      <td>54</td>\n",
       "      <td>6.0</td>\n",
       "      <td>1.8</td>\n",
       "      <td>0.7</td>\n",
       "      <td>1.4</td>\n",
       "      <td>48.7</td>\n",
       "      <td>0.1</td>\n",
       "      <td>0.1</td>\n",
       "      <td>3.1</td>\n",
       "      <td>...</td>\n",
       "      <td>0.4</td>\n",
       "      <td>70.1</td>\n",
       "      <td>1.0</td>\n",
       "      <td>1.1</td>\n",
       "      <td>2.0</td>\n",
       "      <td>0.1</td>\n",
       "      <td>0.0</td>\n",
       "      <td>0.3</td>\n",
       "      <td>0.3</td>\n",
       "      <td>1</td>\n",
       "    </tr>\n",
       "    <tr>\n",
       "      <th>7997</th>\n",
       "      <td>5537</td>\n",
       "      <td>85</td>\n",
       "      <td>28.2</td>\n",
       "      <td>10.7</td>\n",
       "      <td>4.0</td>\n",
       "      <td>9.0</td>\n",
       "      <td>45.1</td>\n",
       "      <td>0.2</td>\n",
       "      <td>0.6</td>\n",
       "      <td>23.6</td>\n",
       "      <td>...</td>\n",
       "      <td>3.9</td>\n",
       "      <td>69.7</td>\n",
       "      <td>1.0</td>\n",
       "      <td>2.1</td>\n",
       "      <td>3.1</td>\n",
       "      <td>3.4</td>\n",
       "      <td>1.2</td>\n",
       "      <td>0.2</td>\n",
       "      <td>1.8</td>\n",
       "      <td>1</td>\n",
       "    </tr>\n",
       "    <tr>\n",
       "      <th>7998</th>\n",
       "      <td>1292</td>\n",
       "      <td>39</td>\n",
       "      <td>7.7</td>\n",
       "      <td>2.5</td>\n",
       "      <td>1.0</td>\n",
       "      <td>2.3</td>\n",
       "      <td>40.1</td>\n",
       "      <td>-0.3</td>\n",
       "      <td>-0.5</td>\n",
       "      <td>13.3</td>\n",
       "      <td>...</td>\n",
       "      <td>0.7</td>\n",
       "      <td>74.3</td>\n",
       "      <td>0.4</td>\n",
       "      <td>0.6</td>\n",
       "      <td>0.9</td>\n",
       "      <td>0.2</td>\n",
       "      <td>0.3</td>\n",
       "      <td>0.3</td>\n",
       "      <td>0.5</td>\n",
       "      <td>1</td>\n",
       "    </tr>\n",
       "    <tr>\n",
       "      <th>7999</th>\n",
       "      <td>2900</td>\n",
       "      <td>49</td>\n",
       "      <td>19.2</td>\n",
       "      <td>4.8</td>\n",
       "      <td>1.7</td>\n",
       "      <td>5.1</td>\n",
       "      <td>32.6</td>\n",
       "      <td>0.7</td>\n",
       "      <td>2.4</td>\n",
       "      <td>41.3</td>\n",
       "      <td>...</td>\n",
       "      <td>1.3</td>\n",
       "      <td>70.1</td>\n",
       "      <td>0.1</td>\n",
       "      <td>1.1</td>\n",
       "      <td>1.2</td>\n",
       "      <td>3.5</td>\n",
       "      <td>0.9</td>\n",
       "      <td>-0.3</td>\n",
       "      <td>1.4</td>\n",
       "      <td>1</td>\n",
       "    </tr>\n",
       "  </tbody>\n",
       "</table>\n",
       "<p>8000 rows × 21 columns</p>\n",
       "</div>"
      ],
      "text/plain": [
       "         Id  GP   MIN   PTS  FGM  FGA   FG%  3P Made  3PA   3P%  ...  FTA  \\\n",
       "0     10556  80  24.3   7.8  3.0  6.4  45.7      0.1  0.3  22.6  ...  2.9   \n",
       "1      5342  75  21.8  10.5  4.2  7.9  55.1     -0.3 -1.0  34.9  ...  3.6   \n",
       "2      5716  85  19.1   4.5  1.9  4.5  42.8      0.4  1.2  34.3  ...  0.6   \n",
       "3     13790  63  19.1   8.2  3.5  6.7  52.5      0.3  0.8  23.7  ...  1.5   \n",
       "4      5470  63  17.8   3.7  1.7  3.4  50.8      0.5  1.4  13.7  ...  0.5   \n",
       "...     ...  ..   ...   ...  ...  ...   ...      ...  ...   ...  ...  ...   \n",
       "7995   2996  32   9.2   1.8  0.7  1.8  40.3     -0.1 -0.2  23.1  ...  0.6   \n",
       "7996  11679  54   6.0   1.8  0.7  1.4  48.7      0.1  0.1   3.1  ...  0.4   \n",
       "7997   5537  85  28.2  10.7  4.0  9.0  45.1      0.2  0.6  23.6  ...  3.9   \n",
       "7998   1292  39   7.7   2.5  1.0  2.3  40.1     -0.3 -0.5  13.3  ...  0.7   \n",
       "7999   2900  49  19.2   4.8  1.7  5.1  32.6      0.7  2.4  41.3  ...  1.3   \n",
       "\n",
       "       FT%  OREB  DREB  REB  AST  STL  BLK  TOV  TARGET_5Yrs  \n",
       "0     72.1   2.2   2.0  3.8  3.2  1.1  0.2  1.6            1  \n",
       "1     67.8   3.6   3.7  6.6  0.7  0.5  0.6  1.4            1  \n",
       "2     75.7   0.6   1.8  2.4  0.8  0.4  0.2  0.6            1  \n",
       "3     66.9   0.8   2.0  3.0  1.8  0.4  0.1  1.9            1  \n",
       "4     54.0   2.4   2.7  4.9  0.4  0.4  0.6  0.7            1  \n",
       "...    ...   ...   ...  ...  ...  ...  ...  ...          ...  \n",
       "7995  65.7   0.3   1.8  1.9  0.5  0.3  0.2  0.4            1  \n",
       "7996  70.1   1.0   1.1  2.0  0.1  0.0  0.3  0.3            1  \n",
       "7997  69.7   1.0   2.1  3.1  3.4  1.2  0.2  1.8            1  \n",
       "7998  74.3   0.4   0.6  0.9  0.2  0.3  0.3  0.5            1  \n",
       "7999  70.1   0.1   1.1  1.2  3.5  0.9 -0.3  1.4            1  \n",
       "\n",
       "[8000 rows x 21 columns]"
      ]
     },
     "execution_count": 6,
     "metadata": {},
     "output_type": "execute_result"
    }
   ],
   "source": [
    "df"
   ]
  },
  {
   "cell_type": "markdown",
   "id": "1f0de5ea",
   "metadata": {},
   "source": [
    "Load additional libraries"
   ]
  },
  {
   "cell_type": "code",
   "execution_count": 7,
   "id": "4dda76fd",
   "metadata": {},
   "outputs": [],
   "source": [
    "from numpy import mean\n",
    "from numpy import std\n",
    "from numpy import absolute\n",
    "from pandas import read_csv\n",
    "from sklearn.model_selection import cross_val_score\n",
    "from sklearn.model_selection import RepeatedKFold\n",
    "from sklearn.linear_model import ElasticNet"
   ]
  },
  {
   "cell_type": "markdown",
   "id": "57a45ba7",
   "metadata": {},
   "source": [
    "Define the data"
   ]
  },
  {
   "cell_type": "code",
   "execution_count": 8,
   "id": "25caca4c",
   "metadata": {},
   "outputs": [],
   "source": [
    "data = df.values"
   ]
  },
  {
   "cell_type": "code",
   "execution_count": 9,
   "id": "f0620dbc",
   "metadata": {},
   "outputs": [
    {
     "data": {
      "text/plain": [
       "array([[ 1.0556e+04,  8.0000e+01,  2.4300e+01, ...,  2.0000e-01,\n",
       "         1.6000e+00,  1.0000e+00],\n",
       "       [ 5.3420e+03,  7.5000e+01,  2.1800e+01, ...,  6.0000e-01,\n",
       "         1.4000e+00,  1.0000e+00],\n",
       "       [ 5.7160e+03,  8.5000e+01,  1.9100e+01, ...,  2.0000e-01,\n",
       "         6.0000e-01,  1.0000e+00],\n",
       "       ...,\n",
       "       [ 5.5370e+03,  8.5000e+01,  2.8200e+01, ...,  2.0000e-01,\n",
       "         1.8000e+00,  1.0000e+00],\n",
       "       [ 1.2920e+03,  3.9000e+01,  7.7000e+00, ...,  3.0000e-01,\n",
       "         5.0000e-01,  1.0000e+00],\n",
       "       [ 2.9000e+03,  4.9000e+01,  1.9200e+01, ..., -3.0000e-01,\n",
       "         1.4000e+00,  1.0000e+00]])"
      ]
     },
     "execution_count": 9,
     "metadata": {},
     "output_type": "execute_result"
    }
   ],
   "source": [
    "data"
   ]
  },
  {
   "cell_type": "code",
   "execution_count": 10,
   "id": "a8d3d7f2",
   "metadata": {},
   "outputs": [],
   "source": [
    "X, y = data[:, :-1], data[:, -1]"
   ]
  },
  {
   "cell_type": "markdown",
   "id": "98fb81c2",
   "metadata": {},
   "source": [
    "Define model"
   ]
  },
  {
   "cell_type": "code",
   "execution_count": 11,
   "id": "33dce6da",
   "metadata": {},
   "outputs": [],
   "source": [
    "model = ElasticNet(alpha=1.0, l1_ratio=0.5)"
   ]
  },
  {
   "cell_type": "markdown",
   "id": "e213c882",
   "metadata": {},
   "source": [
    "Evaluate model - Report average MAE across a 10-fold cross-validation"
   ]
  },
  {
   "cell_type": "code",
   "execution_count": 12,
   "id": "c7959dda",
   "metadata": {},
   "outputs": [],
   "source": [
    "cv = RepeatedKFold(n_splits=10, n_repeats=3, random_state=1)"
   ]
  },
  {
   "cell_type": "code",
   "execution_count": 13,
   "id": "28814872",
   "metadata": {},
   "outputs": [],
   "source": [
    "scores = cross_val_score(model, X, y, scoring='neg_mean_absolute_error', cv=cv, n_jobs=-1)"
   ]
  },
  {
   "cell_type": "code",
   "execution_count": 14,
   "id": "f61a9f10",
   "metadata": {},
   "outputs": [],
   "source": [
    "scores = absolute(scores)"
   ]
  },
  {
   "cell_type": "code",
   "execution_count": 15,
   "id": "02c47279",
   "metadata": {},
   "outputs": [
    {
     "name": "stdout",
     "output_type": "stream",
     "text": [
      "Mean MAE: 0.267 (0.008)\n"
     ]
    }
   ],
   "source": [
    "print('Mean MAE: %.3f (%.3f)' % (mean(scores), std(scores)))"
   ]
  },
  {
   "cell_type": "markdown",
   "id": "b9c065f2",
   "metadata": {},
   "source": [
    "The model achieved a MAE of about 0.267"
   ]
  },
  {
   "cell_type": "markdown",
   "id": "02d6e3e2",
   "metadata": {},
   "source": [
    "Now Set up X and y as Numpy arrays"
   ]
  },
  {
   "cell_type": "code",
   "execution_count": 16,
   "id": "12c5fb1c",
   "metadata": {},
   "outputs": [],
   "source": [
    "y = np.array(df['TARGET_5Yrs'])"
   ]
  },
  {
   "cell_type": "code",
   "execution_count": 17,
   "id": "a9f38b65",
   "metadata": {},
   "outputs": [
    {
     "data": {
      "text/plain": [
       "(8000,)"
      ]
     },
     "execution_count": 17,
     "metadata": {},
     "output_type": "execute_result"
    }
   ],
   "source": [
    "y.shape"
   ]
  },
  {
   "cell_type": "code",
   "execution_count": 18,
   "id": "f3a34807",
   "metadata": {},
   "outputs": [],
   "source": [
    "X = np.array(df.loc[:,])"
   ]
  },
  {
   "cell_type": "code",
   "execution_count": 19,
   "id": "2f98dd18",
   "metadata": {},
   "outputs": [
    {
     "data": {
      "text/plain": [
       "(8000, 21)"
      ]
     },
     "execution_count": 19,
     "metadata": {},
     "output_type": "execute_result"
    }
   ],
   "source": [
    "X.shape"
   ]
  },
  {
   "cell_type": "markdown",
   "id": "0594dcd3",
   "metadata": {},
   "source": [
    "Split data in tran and test sets using sklearn train_test_split package"
   ]
  },
  {
   "cell_type": "code",
   "execution_count": 20,
   "id": "c50aece8",
   "metadata": {},
   "outputs": [],
   "source": [
    "from sklearn.model_selection import train_test_split\n",
    "from sklearn.metrics import mean_squared_error"
   ]
  },
  {
   "cell_type": "code",
   "execution_count": 21,
   "id": "22de4fc0",
   "metadata": {},
   "outputs": [],
   "source": [
    "X_train, X_test, y_train, y_test = train_test_split(X, y, test_size = 0.25)"
   ]
  },
  {
   "cell_type": "markdown",
   "id": "daad06b7",
   "metadata": {},
   "source": [
    "Set the alpha values"
   ]
  },
  {
   "cell_type": "code",
   "execution_count": 22,
   "id": "06f601fb",
   "metadata": {},
   "outputs": [],
   "source": [
    "a_min = 0.01\n",
    "a_max = 0.2\n",
    "a_num = 10\n",
    "alphas = np.linspace(a_min, a_max, a_num)"
   ]
  },
  {
   "cell_type": "markdown",
   "id": "dfb511a5",
   "metadata": {},
   "source": [
    "Create the model - set alphas and training on X and ya data"
   ]
  },
  {
   "cell_type": "code",
   "execution_count": 23,
   "id": "ea181c86",
   "metadata": {},
   "outputs": [],
   "source": [
    "from sklearn.linear_model import LinearRegression"
   ]
  },
  {
   "cell_type": "code",
   "execution_count": 24,
   "id": "f2f6191a",
   "metadata": {},
   "outputs": [],
   "source": [
    "lr = LinearRegression()"
   ]
  },
  {
   "cell_type": "code",
   "execution_count": 25,
   "id": "8376ddf2",
   "metadata": {},
   "outputs": [],
   "source": [
    "for a in alphas:\n",
    "    eNet_df = ElasticNet(alpha = a).fit(X,y)\n",
    "    score = eNet_df.score(X,y)\n",
    "    y_pred = eNet_df.predict(X)\n",
    "    mse = mean_squared_error(y, y_pred)"
   ]
  },
  {
   "cell_type": "code",
   "execution_count": 26,
   "id": "25938d94",
   "metadata": {},
   "outputs": [
    {
     "name": "stdout",
     "output_type": "stream",
     "text": [
      "Alphas 0.2000, R2: 0.30, MSE: 0.10, RMSE: 0.31\n"
     ]
    }
   ],
   "source": [
    "print('Alphas{0: .4f}, R2:{1: .2f}, MSE:{2: .2f}, RMSE:{3: .2f}'\n",
    "      .format(a, score, mse, np.sqrt(mse)))"
   ]
  },
  {
   "cell_type": "code",
   "execution_count": 27,
   "id": "4c4da2e7",
   "metadata": {},
   "outputs": [
    {
     "data": {
      "text/plain": [
       "ElasticNet()"
      ]
     },
     "execution_count": 27,
     "metadata": {},
     "output_type": "execute_result"
    }
   ],
   "source": [
    "model.fit(X, y)"
   ]
  },
  {
   "cell_type": "markdown",
   "id": "b2e9dd9c",
   "metadata": {},
   "source": [
    "Create a tuned model on training data using alpha = 0.2000 "
   ]
  },
  {
   "cell_type": "code",
   "execution_count": 50,
   "id": "7173d537",
   "metadata": {},
   "outputs": [],
   "source": [
    "eNet_df_tuned = ElasticNet(alpha = 0.2).fit(X_train, y_train)"
   ]
  },
  {
   "cell_type": "code",
   "execution_count": null,
   "id": "76fd966a",
   "metadata": {},
   "outputs": [],
   "source": [
    "Run prediction on the X_test data"
   ]
  },
  {
   "cell_type": "code",
   "execution_count": 52,
   "id": "61394643",
   "metadata": {},
   "outputs": [],
   "source": [
    "y_pred_tuned = eNet_df_tuned.predict(X_test)"
   ]
  },
  {
   "cell_type": "markdown",
   "id": "ebce9624",
   "metadata": {},
   "source": [
    "Find model score and mse"
   ]
  },
  {
   "cell_type": "code",
   "execution_count": 55,
   "id": "c7fad0ac",
   "metadata": {},
   "outputs": [
    {
     "name": "stdout",
     "output_type": "stream",
     "text": [
      "R2:  0.427409, MSE:  0.14, RMSE:  0.38\n"
     ]
    }
   ],
   "source": [
    "score = eNet_df_tuned.score(X_test, y_test)\n",
    "mse = mean_squared_error(y_test, y_pred_tuned)\n",
    "print('R2: {0: 4f}, MSE: {1: .2f}, RMSE: {2: .2f}'. format(score, mse,np.sqrt(mse)))"
   ]
  },
  {
   "cell_type": "markdown",
   "id": "9c07dccf",
   "metadata": {},
   "source": [
    "Run a cross-validation check and examine best alpha, intercept, and coefficent values"
   ]
  },
  {
   "cell_type": "code",
   "execution_count": 56,
   "id": "17ee33b4",
   "metadata": {},
   "outputs": [],
   "source": [
    "from sklearn.linear_model import ElasticNetCV"
   ]
  },
  {
   "cell_type": "code",
   "execution_count": 57,
   "id": "7a35a139",
   "metadata": {},
   "outputs": [],
   "source": [
    "eNet_df_cv = ElasticNetCV(alphas = alphas, cv = 10)\n",
    "model = eNet_df_cv.fit(X_train, y_train)"
   ]
  },
  {
   "cell_type": "code",
   "execution_count": 58,
   "id": "652e12ba",
   "metadata": {},
   "outputs": [
    {
     "name": "stdout",
     "output_type": "stream",
     "text": [
      "0.11555555555555555\n"
     ]
    }
   ],
   "source": [
    "print(model.alpha_)"
   ]
  },
  {
   "cell_type": "code",
   "execution_count": 59,
   "id": "2aa44742",
   "metadata": {},
   "outputs": [
    {
     "name": "stdout",
     "output_type": "stream",
     "text": [
      "0.52967738245748\n"
     ]
    }
   ],
   "source": [
    "print(model.intercept_)"
   ]
  },
  {
   "cell_type": "code",
   "execution_count": 60,
   "id": "0f5817d3",
   "metadata": {},
   "outputs": [
    {
     "name": "stdout",
     "output_type": "stream",
     "text": [
      "[ 0.          0.          0.          0.24058788  0.00601113 -0.\n",
      " -0.          0.          0.         -0.          0.          0.\n",
      " -0.          0.          0.          0.          0.          0.\n",
      "  0.         -0.        ]\n"
     ]
    }
   ],
   "source": [
    "print(model.coef_)"
   ]
  },
  {
   "cell_type": "markdown",
   "id": "01859e24",
   "metadata": {},
   "source": [
    "Make predictions from the model"
   ]
  },
  {
   "cell_type": "code",
   "execution_count": 88,
   "id": "448607bb",
   "metadata": {},
   "outputs": [],
   "source": [
    "from sklearn.linear_model import LogisticRegression"
   ]
  },
  {
   "cell_type": "code",
   "execution_count": 95,
   "id": "c8313d76",
   "metadata": {},
   "outputs": [
    {
     "name": "stdout",
     "output_type": "stream",
     "text": [
      "Collecting package metadata (current_repodata.json): ...working... done\n",
      "Solving environment: ...working... done\n",
      "\n",
      "## Package Plan ##\n",
      "\n",
      "  environment location: C:\\Users\\z3066824\\Anaconda3\n",
      "\n",
      "  added / updated specs:\n",
      "    - imbalanced-learn\n",
      "\n",
      "\n",
      "The following packages will be downloaded:\n",
      "\n",
      "    package                    |            build\n",
      "    ---------------------------|-----------------\n",
      "    ca-certificates-2021.10.8  |       h5b45459_0         176 KB  conda-forge\n",
      "    certifi-2021.10.8          |   py38haa244fe_1         145 KB  conda-forge\n",
      "    conda-4.11.0               |   py38haa244fe_0        16.9 MB  conda-forge\n",
      "    imbalanced-learn-0.9.0     |     pyhd8ed1ab_0         115 KB  conda-forge\n",
      "    markupsafe-2.1.0           |   py38h294d835_0          25 KB  conda-forge\n",
      "    openssl-1.1.1l             |       h8ffe710_0         5.7 MB  conda-forge\n",
      "    python_abi-3.8             |           2_cp38           4 KB  conda-forge\n",
      "    scikit-learn-1.0.2         |   py38hf11a4ad_1         5.1 MB\n",
      "    ------------------------------------------------------------\n",
      "                                           Total:        28.1 MB\n",
      "\n",
      "The following NEW packages will be INSTALLED:\n",
      "\n",
      "  imbalanced-learn   conda-forge/noarch::imbalanced-learn-0.9.0-pyhd8ed1ab_0\n",
      "  markupsafe         conda-forge/win-64::markupsafe-2.1.0-py38h294d835_0\n",
      "  python_abi         conda-forge/win-64::python_abi-3.8-2_cp38\n",
      "  scikit-learn       pkgs/main/win-64::scikit-learn-1.0.2-py38hf11a4ad_1\n",
      "\n",
      "The following packages will be UPDATED:\n",
      "\n",
      "  ca-certificates    pkgs/main::ca-certificates-2021.4.13-~ --> conda-forge::ca-certificates-2021.10.8-h5b45459_0\n",
      "  certifi            pkgs/main::certifi-2020.12.5-py38haa9~ --> conda-forge::certifi-2021.10.8-py38haa244fe_1\n",
      "  conda              pkgs/main::conda-4.10.1-py38haa95532_1 --> conda-forge::conda-4.11.0-py38haa244fe_0\n",
      "  openssl              pkgs/main::openssl-1.1.1k-h2bbff1b_0 --> conda-forge::openssl-1.1.1l-h8ffe710_0\n",
      "\n",
      "\n",
      "\n",
      "Downloading and Extracting Packages\n",
      "\n",
      "openssl-1.1.1l       | 5.7 MB    |            |   0% \n",
      "openssl-1.1.1l       | 5.7 MB    |            |   0% \n",
      "openssl-1.1.1l       | 5.7 MB    | 6          |   6% \n",
      "openssl-1.1.1l       | 5.7 MB    | #2         |  12% \n",
      "openssl-1.1.1l       | 5.7 MB    | #8         |  18% \n",
      "openssl-1.1.1l       | 5.7 MB    | ##2        |  23% \n",
      "openssl-1.1.1l       | 5.7 MB    | ###        |  30% \n",
      "openssl-1.1.1l       | 5.7 MB    | ###6       |  36% \n",
      "openssl-1.1.1l       | 5.7 MB    | ####2      |  42% \n",
      "openssl-1.1.1l       | 5.7 MB    | ####7      |  47% \n",
      "openssl-1.1.1l       | 5.7 MB    | #####3     |  54% \n",
      "openssl-1.1.1l       | 5.7 MB    | ######     |  61% \n",
      "openssl-1.1.1l       | 5.7 MB    | ######6    |  67% \n",
      "openssl-1.1.1l       | 5.7 MB    | #######2   |  73% \n",
      "openssl-1.1.1l       | 5.7 MB    | #######8   |  79% \n",
      "openssl-1.1.1l       | 5.7 MB    | ########4  |  85% \n",
      "\n",
      "Note: you may need to restart the kernel to use updated packages.openssl-1.1.1l       | 5.7 MB    | #########  |  91% \n",
      "openssl-1.1.1l       | 5.7 MB    | #########6 |  97% \n",
      "\n"
     ]
    },
    {
     "name": "stderr",
     "output_type": "stream",
     "text": [
      "\n",
      "The environment is inconsistent, please check the package plan carefully\n",
      "The following packages are causing the inconsistency:\n",
      "\n",
      "  - defaults/win-64::anaconda==custom=py38_1\n",
      "  - defaults/noarch::anaconda-project==0.9.1=pyhd3eb1b0_1\n",
      "  - defaults/win-64::bokeh==2.3.1=py38haa95532_0\n",
      "  - defaults/win-64::conda-build==3.21.4=py38haa95532_0\n",
      "  - defaults/noarch::conda-verify==3.4.2=py_1\n",
      "  - defaults/noarch::dask==2021.4.0=pyhd3eb1b0_0\n",
      "  - defaults/noarch::flask==1.1.2=pyhd3eb1b0_0\n",
      "  - defaults/noarch::ipympl==0.7.0=pyhd3eb1b0_0\n",
      "  - defaults/noarch::ipywidgets==7.6.3=pyhd3eb1b0_1\n",
      "  - defaults/noarch::jinja2==2.11.3=pyhd3eb1b0_0\n",
      "  - defaults/win-64::jupyter==1.0.0=py38_7\n",
      "  - defaults/noarch::jupyterlab==3.0.14=pyhd3eb1b0_1\n",
      "  - defaults/noarch::jupyterlab_server==2.4.0=pyhd3eb1b0_0\n",
      "  - defaults/win-64::jupyter_server==1.4.1=py38haa95532_0\n",
      "  - defaults/noarch::nbclassic==0.2.6=pyhd3eb1b0_0\n",
      "  - defaults/win-64::nbconvert==6.0.7=py38_0\n",
      "  - defaults/win-64::notebook==6.3.0=py38haa95532_0\n",
      "  - defaults/noarch::numpydoc==1.1.0=pyhd3eb1b0_1\n",
      "  - defaults/noarch::sphinx==3.5.4=pyhd3eb1b0_0\n",
      "  - defaults/win-64::spyder==4.1.5=py38_0\n",
      "  - defaults/win-64::widgetsnbextension==3.5.1=py38_0\n",
      "  - defaults/win-64::_anaconda_depends==2020.07=py38_0\n",
      "  - defaults/win-64::_ipyw_jlab_nb_ext_conf==0.1.0=py38_0\n",
      "\n",
      "\n",
      "==> WARNING: A newer version of conda exists. <==\n",
      "  current version: 4.10.1\n",
      "  latest version: 4.11.0\n",
      "\n",
      "Please update conda by running\n",
      "\n",
      "    $ conda update -n base -c defaults conda\n",
      "\n",
      "\n"
     ]
    },
    {
     "name": "stdout",
     "output_type": "stream",
     "text": [
      "openssl-1.1.1l       | 5.7 MB    | ########## | 100% \n",
      "\n",
      "conda-4.11.0         | 16.9 MB   |            |   0% \n",
      "conda-4.11.0         | 16.9 MB   | 1          |   1% \n",
      "conda-4.11.0         | 16.9 MB   | 3          |   3% \n",
      "conda-4.11.0         | 16.9 MB   | 5          |   5% \n",
      "conda-4.11.0         | 16.9 MB   | 7          |   7% \n",
      "conda-4.11.0         | 16.9 MB   | 9          |   9% \n",
      "conda-4.11.0         | 16.9 MB   | #1         |  11% \n",
      "conda-4.11.0         | 16.9 MB   | #3         |  13% \n",
      "conda-4.11.0         | 16.9 MB   | #5         |  16% \n",
      "conda-4.11.0         | 16.9 MB   | #7         |  18% \n",
      "conda-4.11.0         | 16.9 MB   | #9         |  20% \n",
      "conda-4.11.0         | 16.9 MB   | ##1        |  22% \n",
      "conda-4.11.0         | 16.9 MB   | ##3        |  23% \n",
      "conda-4.11.0         | 16.9 MB   | ##5        |  26% \n",
      "conda-4.11.0         | 16.9 MB   | ##7        |  28% \n",
      "conda-4.11.0         | 16.9 MB   | ##9        |  30% \n",
      "conda-4.11.0         | 16.9 MB   | ###1       |  32% \n",
      "conda-4.11.0         | 16.9 MB   | ###3       |  34% \n",
      "conda-4.11.0         | 16.9 MB   | ###5       |  36% \n",
      "conda-4.11.0         | 16.9 MB   | ###7       |  38% \n",
      "conda-4.11.0         | 16.9 MB   | ###9       |  40% \n",
      "conda-4.11.0         | 16.9 MB   | ####2      |  42% \n",
      "conda-4.11.0         | 16.9 MB   | ####4      |  44% \n",
      "conda-4.11.0         | 16.9 MB   | ####6      |  46% \n",
      "conda-4.11.0         | 16.9 MB   | ####8      |  48% \n",
      "conda-4.11.0         | 16.9 MB   | #####      |  50% \n",
      "conda-4.11.0         | 16.9 MB   | #####2     |  53% \n",
      "conda-4.11.0         | 16.9 MB   | #####4     |  55% \n",
      "conda-4.11.0         | 16.9 MB   | #####6     |  57% \n",
      "conda-4.11.0         | 16.9 MB   | #####8     |  59% \n",
      "conda-4.11.0         | 16.9 MB   | ######     |  61% \n",
      "conda-4.11.0         | 16.9 MB   | ######2    |  63% \n",
      "conda-4.11.0         | 16.9 MB   | ######5    |  65% \n",
      "conda-4.11.0         | 16.9 MB   | ######7    |  67% \n",
      "conda-4.11.0         | 16.9 MB   | ######9    |  69% \n",
      "conda-4.11.0         | 16.9 MB   | #######1   |  71% \n",
      "conda-4.11.0         | 16.9 MB   | #######3   |  73% \n",
      "conda-4.11.0         | 16.9 MB   | #######5   |  75% \n",
      "conda-4.11.0         | 16.9 MB   | #######7   |  77% \n",
      "conda-4.11.0         | 16.9 MB   | #######9   |  79% \n",
      "conda-4.11.0         | 16.9 MB   | ########1  |  81% \n",
      "conda-4.11.0         | 16.9 MB   | ########3  |  83% \n",
      "conda-4.11.0         | 16.9 MB   | ########5  |  85% \n",
      "conda-4.11.0         | 16.9 MB   | ########7  |  87% \n",
      "conda-4.11.0         | 16.9 MB   | ########9  |  90% \n",
      "conda-4.11.0         | 16.9 MB   | #########1 |  92% \n",
      "conda-4.11.0         | 16.9 MB   | #########4 |  94% \n",
      "conda-4.11.0         | 16.9 MB   | #########6 |  96% \n",
      "conda-4.11.0         | 16.9 MB   | #########8 |  98% \n",
      "conda-4.11.0         | 16.9 MB   | ########## | 100% \n",
      "\n",
      "imbalanced-learn-0.9 | 115 KB    |            |   0% \n",
      "imbalanced-learn-0.9 | 115 KB    | ########## | 100% \n",
      "imbalanced-learn-0.9 | 115 KB    | ########## | 100% \n",
      "\n",
      "python_abi-3.8       | 4 KB      |            |   0% \n",
      "python_abi-3.8       | 4 KB      | ########## | 100% \n",
      "\n",
      "scikit-learn-1.0.2   | 5.1 MB    |            |   0% \n",
      "scikit-learn-1.0.2   | 5.1 MB    |            |   0% \n",
      "scikit-learn-1.0.2   | 5.1 MB    | 6          |   7% \n",
      "scikit-learn-1.0.2   | 5.1 MB    | #3         |  14% \n",
      "scikit-learn-1.0.2   | 5.1 MB    | ##         |  20% \n",
      "scikit-learn-1.0.2   | 5.1 MB    | ##7        |  27% \n",
      "scikit-learn-1.0.2   | 5.1 MB    | ###3       |  34% \n",
      "scikit-learn-1.0.2   | 5.1 MB    | ###9       |  39% \n",
      "scikit-learn-1.0.2   | 5.1 MB    | ####5      |  45% \n",
      "scikit-learn-1.0.2   | 5.1 MB    | #####3     |  53% \n",
      "scikit-learn-1.0.2   | 5.1 MB    | #####9     |  60% \n",
      "scikit-learn-1.0.2   | 5.1 MB    | ######6    |  66% \n",
      "scikit-learn-1.0.2   | 5.1 MB    | #######2   |  73% \n",
      "scikit-learn-1.0.2   | 5.1 MB    | #######9   |  79% \n",
      "scikit-learn-1.0.2   | 5.1 MB    | ########5  |  86% \n",
      "scikit-learn-1.0.2   | 5.1 MB    | #########2 |  92% \n",
      "scikit-learn-1.0.2   | 5.1 MB    | #########8 |  99% \n",
      "scikit-learn-1.0.2   | 5.1 MB    | ########## | 100% \n",
      "\n",
      "markupsafe-2.1.0     | 25 KB     |            |   0% \n",
      "markupsafe-2.1.0     | 25 KB     | ########## | 100% \n",
      "markupsafe-2.1.0     | 25 KB     | ########## | 100% \n",
      "\n",
      "ca-certificates-2021 | 176 KB    |            |   0% \n",
      "ca-certificates-2021 | 176 KB    | ########## | 100% \n",
      "ca-certificates-2021 | 176 KB    | ########## | 100% \n",
      "\n",
      "certifi-2021.10.8    | 145 KB    |            |   0% \n",
      "certifi-2021.10.8    | 145 KB    | ########## | 100% \n",
      "certifi-2021.10.8    | 145 KB    | ########## | 100% \n",
      "Preparing transaction: ...working... done\n",
      "Verifying transaction: ...working... done\n",
      "Executing transaction: ...working... \n",
      "\n",
      "    Windows 64-bit packages of scikit-learn can be accelerated using scikit-learn-intelex.\n",
      "    More details are available here: https://intel.github.io/scikit-learn-intelex\n",
      "\n",
      "    For example:\n",
      "\n",
      "        $ conda install scikit-learn-intelex\n",
      "        $ python -m sklearnex my_application.py\n",
      "\n",
      "\n",
      "done\n"
     ]
    }
   ],
   "source": [
    "conda install -c conda-forge imbalanced-learn"
   ]
  },
  {
   "cell_type": "code",
   "execution_count": 96,
   "id": "76d8aa69",
   "metadata": {},
   "outputs": [],
   "source": [
    "from imblearn import under_sampling, over_sampling\n",
    "from imblearn.over_sampling import SMOTE"
   ]
  },
  {
   "cell_type": "code",
   "execution_count": 99,
   "id": "2fffbac5",
   "metadata": {},
   "outputs": [],
   "source": [
    "from sklearn.model_selection import StratifiedKFold"
   ]
  },
  {
   "cell_type": "code",
   "execution_count": 97,
   "id": "16753203",
   "metadata": {},
   "outputs": [],
   "source": [
    "y_pred = model.predict(X_test)"
   ]
  },
  {
   "cell_type": "code",
   "execution_count": 98,
   "id": "8fcc3af2",
   "metadata": {},
   "outputs": [],
   "source": [
    "logistic = LogisticRegression()\n",
    "prediction = logistic.fit(X, y)"
   ]
  },
  {
   "cell_type": "code",
   "execution_count": 106,
   "id": "020607d0",
   "metadata": {},
   "outputs": [],
   "source": [
    "from sklearn.svm import SVC\n",
    "from sklearn.metrics import confusion_matrix"
   ]
  },
  {
   "cell_type": "code",
   "execution_count": 102,
   "id": "c90845e2",
   "metadata": {},
   "outputs": [],
   "source": [
    "svm_model= SVC()"
   ]
  },
  {
   "cell_type": "code",
   "execution_count": 103,
   "id": "06553012",
   "metadata": {},
   "outputs": [
    {
     "data": {
      "text/plain": [
       "SVC()"
      ]
     },
     "execution_count": 103,
     "metadata": {},
     "output_type": "execute_result"
    }
   ],
   "source": [
    "svm_model.fit (X_train, y_train)"
   ]
  },
  {
   "cell_type": "code",
   "execution_count": 104,
   "id": "84def4bf",
   "metadata": {},
   "outputs": [],
   "source": [
    "svm_pred= svm_model.predict (X_test)"
   ]
  },
  {
   "cell_type": "code",
   "execution_count": 107,
   "id": "f19b185e",
   "metadata": {},
   "outputs": [
    {
     "name": "stdout",
     "output_type": "stream",
     "text": [
      "[[12  1]\n",
      " [ 2 10]]\n"
     ]
    }
   ],
   "source": [
    "print (confusion_matrix (y_test, svm_pred))"
   ]
  },
  {
   "cell_type": "code",
   "execution_count": 110,
   "id": "f34a98f0",
   "metadata": {},
   "outputs": [],
   "source": [
    "from sklearn.model_selection import GridSearchCV"
   ]
  },
  {
   "cell_type": "code",
   "execution_count": 111,
   "id": "c2156341",
   "metadata": {},
   "outputs": [],
   "source": [
    "param_grid = { 'C':[0.1, 1, 10, 100],'gamma': [0.1, 1, 10, 100, 1000]}"
   ]
  },
  {
   "cell_type": "code",
   "execution_count": 112,
   "id": "be02d402",
   "metadata": {},
   "outputs": [],
   "source": [
    "grid = GridSearchCV (SVC(), param_grid, verbose=3)"
   ]
  },
  {
   "cell_type": "code",
   "execution_count": 113,
   "id": "308e3af7",
   "metadata": {},
   "outputs": [
    {
     "name": "stdout",
     "output_type": "stream",
     "text": [
      "Fitting 5 folds for each of 20 candidates, totalling 100 fits\n",
      "[CV 1/5] END ..................C=0.1, gamma=0.1;, score=0.467 total time=   0.0s\n",
      "[CV 2/5] END ..................C=0.1, gamma=0.1;, score=0.467 total time=   0.0s\n",
      "[CV 3/5] END ..................C=0.1, gamma=0.1;, score=0.867 total time=   0.0s\n",
      "[CV 4/5] END ..................C=0.1, gamma=0.1;, score=0.467 total time=   0.0s\n",
      "[CV 5/5] END ..................C=0.1, gamma=0.1;, score=0.667 total time=   0.0s\n",
      "[CV 1/5] END ....................C=0.1, gamma=1;, score=0.467 total time=   0.0s\n",
      "[CV 2/5] END ....................C=0.1, gamma=1;, score=0.467 total time=   0.0s\n",
      "[CV 3/5] END ....................C=0.1, gamma=1;, score=0.667 total time=   0.0s\n",
      "[CV 4/5] END ....................C=0.1, gamma=1;, score=0.600 total time=   0.0s\n",
      "[CV 5/5] END ....................C=0.1, gamma=1;, score=0.533 total time=   0.0s\n",
      "[CV 1/5] END ...................C=0.1, gamma=10;, score=0.467 total time=   0.0s\n",
      "[CV 2/5] END ...................C=0.1, gamma=10;, score=0.467 total time=   0.0s\n",
      "[CV 3/5] END ...................C=0.1, gamma=10;, score=0.933 total time=   0.0s\n",
      "[CV 4/5] END ...................C=0.1, gamma=10;, score=0.867 total time=   0.0s\n",
      "[CV 5/5] END ...................C=0.1, gamma=10;, score=0.667 total time=   0.0s\n",
      "[CV 1/5] END ..................C=0.1, gamma=100;, score=0.467 total time=   0.0s\n",
      "[CV 2/5] END ..................C=0.1, gamma=100;, score=0.467 total time=   0.0s\n",
      "[CV 3/5] END ..................C=0.1, gamma=100;, score=0.533 total time=   0.0s\n",
      "[CV 4/5] END ..................C=0.1, gamma=100;, score=0.533 total time=   0.0s\n",
      "[CV 5/5] END ..................C=0.1, gamma=100;, score=0.533 total time=   0.0s\n",
      "[CV 1/5] END .................C=0.1, gamma=1000;, score=0.467 total time=   0.0s\n",
      "[CV 2/5] END .................C=0.1, gamma=1000;, score=0.467 total time=   0.0s\n",
      "[CV 3/5] END .................C=0.1, gamma=1000;, score=0.533 total time=   0.0s\n",
      "[CV 4/5] END .................C=0.1, gamma=1000;, score=0.533 total time=   0.0s\n",
      "[CV 5/5] END .................C=0.1, gamma=1000;, score=0.533 total time=   0.0s\n",
      "[CV 1/5] END ....................C=1, gamma=0.1;, score=0.733 total time=   0.0s\n",
      "[CV 2/5] END ....................C=1, gamma=0.1;, score=0.800 total time=   0.0s\n",
      "[CV 3/5] END ....................C=1, gamma=0.1;, score=0.933 total time=   0.0s\n",
      "[CV 4/5] END ....................C=1, gamma=0.1;, score=0.867 total time=   0.0s\n",
      "[CV 5/5] END ....................C=1, gamma=0.1;, score=0.933 total time=   0.0s\n",
      "[CV 1/5] END ......................C=1, gamma=1;, score=0.467 total time=   0.0s\n",
      "[CV 2/5] END ......................C=1, gamma=1;, score=0.467 total time=   0.0s\n",
      "[CV 3/5] END ......................C=1, gamma=1;, score=0.667 total time=   0.0s\n",
      "[CV 4/5] END ......................C=1, gamma=1;, score=0.533 total time=   0.0s\n",
      "[CV 5/5] END ......................C=1, gamma=1;, score=0.600 total time=   0.0s\n",
      "[CV 1/5] END .....................C=1, gamma=10;, score=0.467 total time=   0.0s\n",
      "[CV 2/5] END .....................C=1, gamma=10;, score=0.467 total time=   0.0s\n",
      "[CV 3/5] END .....................C=1, gamma=10;, score=0.933 total time=   0.0s\n",
      "[CV 4/5] END .....................C=1, gamma=10;, score=0.533 total time=   0.0s\n",
      "[CV 5/5] END .....................C=1, gamma=10;, score=0.533 total time=   0.0s\n",
      "[CV 1/5] END ....................C=1, gamma=100;, score=0.467 total time=   0.0s\n",
      "[CV 2/5] END ....................C=1, gamma=100;, score=0.467 total time=   0.0s\n",
      "[CV 3/5] END ....................C=1, gamma=100;, score=0.533 total time=   0.0s\n",
      "[CV 4/5] END ....................C=1, gamma=100;, score=0.533 total time=   0.0s\n",
      "[CV 5/5] END ....................C=1, gamma=100;, score=0.533 total time=   0.0s\n",
      "[CV 1/5] END ...................C=1, gamma=1000;, score=0.467 total time=   0.0s\n",
      "[CV 2/5] END ...................C=1, gamma=1000;, score=0.467 total time=   0.0s\n",
      "[CV 3/5] END ...................C=1, gamma=1000;, score=0.533 total time=   0.0s\n",
      "[CV 4/5] END ...................C=1, gamma=1000;, score=0.533 total time=   0.0s\n",
      "[CV 5/5] END ...................C=1, gamma=1000;, score=0.533 total time=   0.0s\n",
      "[CV 1/5] END ...................C=10, gamma=0.1;, score=0.733 total time=   0.0s\n",
      "[CV 2/5] END ...................C=10, gamma=0.1;, score=0.867 total time=   0.0s\n",
      "[CV 3/5] END ...................C=10, gamma=0.1;, score=0.933 total time=   0.0s\n",
      "[CV 4/5] END ...................C=10, gamma=0.1;, score=0.867 total time=   0.0s\n",
      "[CV 5/5] END ...................C=10, gamma=0.1;, score=0.933 total time=   0.0s\n",
      "[CV 1/5] END .....................C=10, gamma=1;, score=0.467 total time=   0.0s\n",
      "[CV 2/5] END .....................C=10, gamma=1;, score=0.467 total time=   0.0s\n",
      "[CV 3/5] END .....................C=10, gamma=1;, score=0.667 total time=   0.0s\n",
      "[CV 4/5] END .....................C=10, gamma=1;, score=0.533 total time=   0.0s\n",
      "[CV 5/5] END .....................C=10, gamma=1;, score=0.667 total time=   0.0s\n",
      "[CV 1/5] END ....................C=10, gamma=10;, score=0.467 total time=   0.0s\n",
      "[CV 2/5] END ....................C=10, gamma=10;, score=0.467 total time=   0.0s\n",
      "[CV 3/5] END ....................C=10, gamma=10;, score=0.933 total time=   0.0s\n",
      "[CV 4/5] END ....................C=10, gamma=10;, score=0.533 total time=   0.0s\n",
      "[CV 5/5] END ....................C=10, gamma=10;, score=0.533 total time=   0.0s\n",
      "[CV 1/5] END ...................C=10, gamma=100;, score=0.467 total time=   0.0s\n",
      "[CV 2/5] END ...................C=10, gamma=100;, score=0.467 total time=   0.0s\n",
      "[CV 3/5] END ...................C=10, gamma=100;, score=0.533 total time=   0.0s\n",
      "[CV 4/5] END ...................C=10, gamma=100;, score=0.533 total time=   0.0s\n",
      "[CV 5/5] END ...................C=10, gamma=100;, score=0.533 total time=   0.0s\n",
      "[CV 1/5] END ..................C=10, gamma=1000;, score=0.467 total time=   0.0s\n",
      "[CV 2/5] END ..................C=10, gamma=1000;, score=0.467 total time=   0.0s\n",
      "[CV 3/5] END ..................C=10, gamma=1000;, score=0.533 total time=   0.0s\n",
      "[CV 4/5] END ..................C=10, gamma=1000;, score=0.533 total time=   0.0s\n",
      "[CV 5/5] END ..................C=10, gamma=1000;, score=0.533 total time=   0.0s\n",
      "[CV 1/5] END ..................C=100, gamma=0.1;, score=0.733 total time=   0.0s\n",
      "[CV 2/5] END ..................C=100, gamma=0.1;, score=0.867 total time=   0.0s\n",
      "[CV 3/5] END ..................C=100, gamma=0.1;, score=0.933 total time=   0.0s\n",
      "[CV 4/5] END ..................C=100, gamma=0.1;, score=0.867 total time=   0.0s\n",
      "[CV 5/5] END ..................C=100, gamma=0.1;, score=0.933 total time=   0.0s\n",
      "[CV 1/5] END ....................C=100, gamma=1;, score=0.467 total time=   0.0s\n",
      "[CV 2/5] END ....................C=100, gamma=1;, score=0.467 total time=   0.0s\n",
      "[CV 3/5] END ....................C=100, gamma=1;, score=0.667 total time=   0.0s\n",
      "[CV 4/5] END ....................C=100, gamma=1;, score=0.533 total time=   0.0s\n",
      "[CV 5/5] END ....................C=100, gamma=1;, score=0.667 total time=   0.0s\n",
      "[CV 1/5] END ...................C=100, gamma=10;, score=0.467 total time=   0.0s\n",
      "[CV 2/5] END ...................C=100, gamma=10;, score=0.467 total time=   0.0s\n",
      "[CV 3/5] END ...................C=100, gamma=10;, score=0.933 total time=   0.0s\n",
      "[CV 4/5] END ...................C=100, gamma=10;, score=0.533 total time=   0.0s\n",
      "[CV 5/5] END ...................C=100, gamma=10;, score=0.533 total time=   0.0s\n",
      "[CV 1/5] END ..................C=100, gamma=100;, score=0.467 total time=   0.0s\n",
      "[CV 2/5] END ..................C=100, gamma=100;, score=0.467 total time=   0.0s\n",
      "[CV 3/5] END ..................C=100, gamma=100;, score=0.533 total time=   0.0s\n",
      "[CV 4/5] END ..................C=100, gamma=100;, score=0.533 total time=   0.0s\n",
      "[CV 5/5] END ..................C=100, gamma=100;, score=0.533 total time=   0.0s\n",
      "[CV 1/5] END .................C=100, gamma=1000;, score=0.467 total time=   0.0s\n",
      "[CV 2/5] END .................C=100, gamma=1000;, score=0.467 total time=   0.0s\n",
      "[CV 3/5] END .................C=100, gamma=1000;, score=0.533 total time=   0.0s\n",
      "[CV 4/5] END .................C=100, gamma=1000;, score=0.533 total time=   0.0s\n",
      "[CV 5/5] END .................C=100, gamma=1000;, score=0.533 total time=   0.0s\n"
     ]
    },
    {
     "data": {
      "text/plain": [
       "GridSearchCV(estimator=SVC(),\n",
       "             param_grid={'C': [0.1, 1, 10, 100],\n",
       "                         'gamma': [0.1, 1, 10, 100, 1000]},\n",
       "             verbose=3)"
      ]
     },
     "execution_count": 113,
     "metadata": {},
     "output_type": "execute_result"
    }
   ],
   "source": [
    "grid.fit (X_train,y_train)"
   ]
  },
  {
   "cell_type": "code",
   "execution_count": 114,
   "id": "37ff4a49",
   "metadata": {},
   "outputs": [
    {
     "data": {
      "text/plain": [
       "{'C': 10, 'gamma': 0.1}"
      ]
     },
     "execution_count": 114,
     "metadata": {},
     "output_type": "execute_result"
    }
   ],
   "source": [
    "grid.best_params_"
   ]
  },
  {
   "cell_type": "code",
   "execution_count": 115,
   "id": "189a90ec",
   "metadata": {},
   "outputs": [],
   "source": [
    "grid_predictions = grid.predict (X_test)"
   ]
  },
  {
   "cell_type": "code",
   "execution_count": 117,
   "id": "b4260703",
   "metadata": {},
   "outputs": [
    {
     "name": "stdout",
     "output_type": "stream",
     "text": [
      "[1 1 1 0 0 1 1 0 1 1 1 0 0 0 0 1 0 0 1 1 0 0 1 0 0] [1 0 1 0 0 1 1 0 0 0 1 0 0 1 0 1 0 0 1 1 1 0 1 0 0]\n"
     ]
    }
   ],
   "source": [
    "print(y_test, grid_predictions)"
   ]
  },
  {
   "cell_type": "markdown",
   "id": "e1abf063",
   "metadata": {},
   "source": [
    "Run additional model diagnostis"
   ]
  },
  {
   "cell_type": "markdown",
   "id": "03d84985",
   "metadata": {},
   "source": [
    "1- Estimate UAC"
   ]
  },
  {
   "cell_type": "code",
   "execution_count": 100,
   "id": "44ad6bbc",
   "metadata": {},
   "outputs": [
    {
     "data": {
      "text/plain": [
       "0.9477678571428572"
      ]
     },
     "execution_count": 100,
     "metadata": {},
     "output_type": "execute_result"
    }
   ],
   "source": [
    "oversample = SMOTE()\n",
    "X, y = oversample.fit_resample(X_train, y_train)\n",
    "kfold = StratifiedKFold(n_splits=5, shuffle=True, random_state=2)\n",
    "scores = cross_val_score(LogisticRegression(max_iter=200), X, y, scoring='roc_auc', cv=kfold)\n",
    "scores.mean()"
   ]
  },
  {
   "cell_type": "markdown",
   "id": "ab75f1c9",
   "metadata": {},
   "source": [
    "A UAC of 0.9477 was attaining meaning reliable predications were attained"
   ]
  },
  {
   "cell_type": "markdown",
   "id": "21ddcc89",
   "metadata": {},
   "source": [
    "2- Check accuracy and model fit to training set"
   ]
  },
  {
   "cell_type": "code",
   "execution_count": 64,
   "id": "d0e64eff",
   "metadata": {},
   "outputs": [
    {
     "name": "stdout",
     "output_type": "stream",
     "text": [
      "R2:  0.436903, MSE:  0.14, RMSE:  0.37\n"
     ]
    }
   ],
   "source": [
    "score = model.score(X_test, y_test)\n",
    "mse = mean_squared_error (y_test, y_pred)\n",
    "print('R2: {0: 4f}, MSE: {1: .2f}, RMSE: {2: .2f}'. format(score, mse,np.sqrt(mse)))"
   ]
  },
  {
   "cell_type": "markdown",
   "id": "55ddbe71",
   "metadata": {},
   "source": [
    "An R2 of 0.4369 and MSE of 0.14 indicates that the logistic regression model was a relativey good fit for the training data "
   ]
  },
  {
   "cell_type": "markdown",
   "id": "bc580c52",
   "metadata": {},
   "source": [
    "Convert predictions to csv"
   ]
  },
  {
   "cell_type": "code",
   "execution_count": 132,
   "id": "ef37b2ef",
   "metadata": {},
   "outputs": [],
   "source": [
    "pd.DataFrame(grid_predictions).to_csv(\"C:\\\\Users\\\\z3066824\\\\OneDrive - UNSW\\Documents\\\\Blamires_Sean.csv\")"
   ]
  },
  {
   "cell_type": "code",
   "execution_count": null,
   "id": "97444942",
   "metadata": {},
   "outputs": [],
   "source": []
  },
  {
   "cell_type": "code",
   "execution_count": null,
   "id": "cf5b4315",
   "metadata": {},
   "outputs": [],
   "source": []
  }
 ],
 "metadata": {
  "kernelspec": {
   "display_name": "Python 3",
   "language": "python",
   "name": "python3"
  },
  "language_info": {
   "codemirror_mode": {
    "name": "ipython",
    "version": 3
   },
   "file_extension": ".py",
   "mimetype": "text/x-python",
   "name": "python",
   "nbconvert_exporter": "python",
   "pygments_lexer": "ipython3",
   "version": "3.8.8"
  }
 },
 "nbformat": 4,
 "nbformat_minor": 5
}
