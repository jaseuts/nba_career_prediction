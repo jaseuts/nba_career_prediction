{
 "cells": [
  {
   "cell_type": "markdown",
   "metadata": {},
   "source": [
    "**1. LOAD REQUIRED PACKAGES**"
   ]
  },
  {
   "cell_type": "code",
   "execution_count": 1,
   "metadata": {},
   "outputs": [],
   "source": [
    "from joblib import dump \n",
    "from imblearn.over_sampling import SMOTE\n",
    "from sklearn.model_selection import StratifiedKFold\n",
    "from sklearn.linear_model import LogisticRegression\n",
    "from sklearn.ensemble import RandomForestClassifier\n",
    "from sklearn.model_selection import cross_val_score\n",
    "import xgboost as xgb\n",
    "from hyperopt import Trials, STATUS_OK, tpe, hp, fmin"
   ]
  },
  {
   "cell_type": "code",
   "execution_count": 2,
   "metadata": {},
   "outputs": [],
   "source": [
    "%load_ext autoreload\n",
    "%autoreload 2"
   ]
  },
  {
   "cell_type": "markdown",
   "metadata": {
    "id": "ye4XgfrBguD1"
   },
   "source": [
    "**2. LOAD THE PROCESSED DATA**"
   ]
  },
  {
   "cell_type": "code",
   "execution_count": 3,
   "metadata": {
    "colab": {
     "base_uri": "https://localhost:8080/",
     "height": 225
    },
    "executionInfo": {
     "elapsed": 925,
     "status": "ok",
     "timestamp": 1644588069802,
     "user": {
      "displayName": "Jason Nguyen",
      "photoUrl": "https://lh3.googleusercontent.com/a/default-user=s64",
      "userId": "08127932565725073314"
     },
     "user_tz": -660
    },
    "id": "zPcPbAZ8QLxm",
    "outputId": "6c89e1d0-92f4-4eb0-fded-fe893378d6bb"
   },
   "outputs": [
    {
     "name": "stdout",
     "output_type": "stream",
     "text": [
      "[ 1.00610018  0.6405738   0.1234033   0.11395867  0.04709033  0.17726855\n",
      " -0.42837351 -0.48691065  0.18849336  0.65595335  0.76038672  0.07039208\n",
      "  1.42837673 -0.12103694  0.26604009  1.16194866  1.1072419  -0.05507101\n",
      "  0.47321012]\n",
      "(8000, 19)\n",
      "[1 1 1 1 1]\n",
      "(3799, 19)\n",
      "[   1 8194    3 8196 8197]\n"
     ]
    }
   ],
   "source": [
    "from src.data.jason_sets import load_sets\n",
    "\n",
    "train_scaled, target, val_scaled, val_target, test_scaled, test_target, test_id = load_sets()\n",
    "\n",
    "print(train_scaled[0])\n",
    "print(train_scaled.shape)\n",
    "print(target[0:5])\n",
    "print(test_scaled.shape)\n",
    "print(test_id[0:5])     "
   ]
  },
  {
   "cell_type": "markdown",
   "metadata": {},
   "source": [
    "**3. USE SMOTE TO OVERSAMPE THE LOADED DATA**"
   ]
  },
  {
   "cell_type": "code",
   "execution_count": 4,
   "metadata": {},
   "outputs": [],
   "source": [
    "oversample = SMOTE()\n",
    "X_smote, y_smote = oversample.fit_resample(train_scaled, target)"
   ]
  },
  {
   "cell_type": "markdown",
   "metadata": {
    "id": "SGhjGgTeNcTA"
   },
   "source": [
    "**4. CALCULATE MODEL BENCHMARK**"
   ]
  },
  {
   "cell_type": "code",
   "execution_count": 5,
   "metadata": {
    "colab": {
     "base_uri": "https://localhost:8080/",
     "height": 225
    },
    "executionInfo": {
     "elapsed": 992,
     "status": "ok",
     "timestamp": 1644588137435,
     "user": {
      "displayName": "Jason Nguyen",
      "photoUrl": "https://lh3.googleusercontent.com/a/default-user=s64",
      "userId": "08127932565725073314"
     },
     "user_tz": -660
    },
    "id": "FJHPmHt5Nc5c",
    "outputId": "34ed281a-a950-41b1-bc2f-dd5ea0e346bd"
   },
   "outputs": [
    {
     "name": "stdout",
     "output_type": "stream",
     "text": [
      "Accuracy Training: 0.833625\n",
      "ROC AUC Training: 0.5\n"
     ]
    }
   ],
   "source": [
    "from src.models.jason_null import NullModel\n",
    "from src.models.jason_performance import print_class_perf\n",
    "\n",
    "base_model = NullModel(target_type=\"classification\")\n",
    "base_target = base_model.fit_predict(target)\n",
    "\n",
    "print_class_perf(y_preds=base_target, y_actuals=target, set_name='Training', average='macro')"
   ]
  },
  {
   "cell_type": "markdown",
   "metadata": {},
   "source": [
    "**5. MODEL TUNNING**\n",
    "\n",
    "**Load the custom SearchCV() and set up value for CV** <br>\n",
    "Because the data is imbalanced, we use `StratifiedKfold` for accurate comparision when tuning hyperparameters."
   ]
  },
  {
   "cell_type": "code",
   "execution_count": 6,
   "metadata": {
    "colab": {
     "base_uri": "https://localhost:8080/",
     "height": 850
    },
    "executionInfo": {
     "elapsed": 293,
     "status": "ok",
     "timestamp": 1644142578165,
     "user": {
      "displayName": "Jason Nguyen",
      "photoUrl": "https://lh3.googleusercontent.com/a/default-user=s64",
      "userId": "08127932565725073314"
     },
     "user_tz": -660
    },
    "id": "iHJgNu4tPF_t",
    "outputId": "a69af5a3-df80-4374-f1d3-3401d6354cf2"
   },
   "outputs": [],
   "source": [
    "from src.models.jason_tune_model import searchCV\n",
    "\n",
    "kfold = StratifiedKFold(n_splits=5, shuffle=True, random_state=2)"
   ]
  },
  {
   "cell_type": "markdown",
   "metadata": {},
   "source": [
    "**5A. Search best hyperparameters for Logistic Regression (LG)**"
   ]
  },
  {
   "cell_type": "code",
   "execution_count": 7,
   "metadata": {},
   "outputs": [
    {
     "name": "stdout",
     "output_type": "stream",
     "text": [
      "Best params: {'C': 0.1, 'penalty': 'l2', 'solver': 'liblinear'}\n",
      "Training AUC score: 0.701\n"
     ]
    }
   ],
   "source": [
    "solvers = ['newton-cg', 'lbfgs', 'liblinear']\n",
    "penalty = ['l2']\n",
    "c_values = [100, 10, 1.0, 0.1, 0.01]\n",
    "\n",
    "grid = dict(solver=solvers, penalty=penalty, C=c_values)\n",
    "logistic = LogisticRegression()\n",
    "\n",
    "searchCV(logistic, grid, train_scaled, target, kfold)"
   ]
  },
  {
   "cell_type": "markdown",
   "metadata": {},
   "source": [
    "**Fit a tuned LG with the SMOTE data** <br>\n",
    "Then make prediction and save the tuned model and its prediciton result to drive."
   ]
  },
  {
   "cell_type": "code",
   "execution_count": 8,
   "metadata": {},
   "outputs": [],
   "source": [
    "from src.models.jason_predict_model import save_prediction\n",
    "\n",
    "logistic = LogisticRegression(C=0.1, penalty='l2', solver='liblinear')\n",
    "logistic.fit(X_smote, y_smote)\n",
    "dump(logistic,  '../models/jason_logistic_tuned_smote.joblib')\n",
    "\n",
    "save_prediction(logistic, test_scaled, test_id, 'logistic_tuned_smote_pred')"
   ]
  },
  {
   "cell_type": "markdown",
   "metadata": {},
   "source": [
    "**5B. Search best hyperparameters for Random Forest (RF)**"
   ]
  },
  {
   "cell_type": "code",
   "execution_count": 11,
   "metadata": {},
   "outputs": [
    {
     "name": "stdout",
     "output_type": "stream",
     "text": [
      "Best params: {'min_weight_fraction_leaf': 0.01, 'min_samples_split': 0.08, 'min_samples_leaf': 20, 'min_impurity_decrease': 0.0, 'max_leaf_nodes': None, 'max_features': 0.7, 'max_depth': 8}\n",
      "Training AUC score: 0.700\n"
     ]
    }
   ],
   "source": [
    "grid = {'min_weight_fraction_leaf':[0.0, 0.0025, 0.005, 0.0075, 0.01, 0.05],\n",
    "        'min_samples_split':[2, 0.01, 0.02, 0.03, 0.04, 0.06, 0.08, 0.1],\n",
    "        'min_samples_leaf':[1,2,4,6,8,10,20,30],\n",
    "        'min_impurity_decrease':[0.0, 0.01, 0.05, 0.10, 0.15, 0.2],\n",
    "        'max_leaf_nodes':[10, 15, 20, 25, 30, 35, 40, 45, 50, None],\n",
    "        'max_features':['auto', 0.8, 0.7, 0.6, 0.5, 0.4],\n",
    "        'max_depth':[None,2,4,6,8,10,20]\n",
    "}\n",
    "\n",
    "rf = RandomForestClassifier(random_state=2, n_jobs=-1)\n",
    "searchCV(rf, grid, train_scaled, target, kfold, random=True)"
   ]
  },
  {
   "cell_type": "markdown",
   "metadata": {
    "id": "10Eo1Q_lz3r9"
   },
   "source": [
    "**Fit a tuned RF with the SMOTE data** <br>\n",
    "Then make prediction and save the tuned model and its prediciton result to drive."
   ]
  },
  {
   "cell_type": "code",
   "execution_count": 12,
   "metadata": {},
   "outputs": [],
   "source": [
    "rf = RandomForestClassifier(min_weight_fraction_leaf=0.01, min_samples_split=0.08, \n",
    "                            min_samples_leaf=20, min_impurity_decrease=0.0, \n",
    "                            max_leaf_nodes=None, max_features=0.7, max_depth=8)\n",
    "rf.fit(X_smote, y_smote)\n",
    "dump(rf,  '../models/jason_rf_tuned_smote.joblib')\n",
    "\n",
    "save_prediction(logistic, test_scaled, test_id, 'rf_tuned_smote_pred')"
   ]
  },
  {
   "cell_type": "markdown",
   "metadata": {},
   "source": [
    "**6. TESTING NEW HYPOTHESIS: eXTREME GRADIENT BOOSTING (XGB)**"
   ]
  },
  {
   "cell_type": "markdown",
   "metadata": {},
   "source": [
    "**6A. Fit an XGB model and evaluate its performance**"
   ]
  },
  {
   "cell_type": "code",
   "execution_count": 13,
   "metadata": {},
   "outputs": [
    {
     "name": "stdout",
     "output_type": "stream",
     "text": [
      "Training accuracy score: 0.822\n",
      "Training AUC score: 0.664\n"
     ]
    }
   ],
   "source": [
    "xgboost_default = xgb.XGBClassifier(use_label_encoder=False, eval_metric='logloss')\n",
    "xgboost_default.fit(train_scaled, target)\n",
    "dump(xgboost_default,  '../models/jason_xgboost_default.joblib')\n",
    "\n",
    "acc_scores = cross_val_score(xgboost_default, train_scaled, target, scoring='accuracy', cv=kfold)\n",
    "auc_scores = cross_val_score(xgboost_default, train_scaled, target, scoring='roc_auc', cv=kfold)\n",
    "\n",
    "print(\"Training accuracy score: {:.3f}\".format(acc_scores.mean()))\n",
    "print(\"Training AUC score: {:.3f}\".format(auc_scores.mean()))"
   ]
  },
  {
   "cell_type": "markdown",
   "metadata": {},
   "source": [
    "**6B. Search best hyperparameters for XGB**\n",
    "\n",
    "**Define an objective function**"
   ]
  },
  {
   "cell_type": "code",
   "execution_count": 14,
   "metadata": {},
   "outputs": [],
   "source": [
    "def objective(space):\n",
    "    from sklearn.model_selection import cross_val_score\n",
    "    \n",
    "    xgboost = xgb.XGBClassifier(\n",
    "        max_depth = int(space['max_depth']),\n",
    "        learning_rate = space['learning_rate'],\n",
    "        min_child_weight = space['min_child_weight'],\n",
    "        subsample = space['subsample'],\n",
    "        colsample_bytree = space['colsample_bytree'],\n",
    "        use_label_encoder=False, eval_metric='logloss'      \n",
    "    )\n",
    "    \n",
    "    acc = cross_val_score(xgboost, train_scaled, target, cv=kfold, scoring=\"accuracy\").mean()\n",
    "\n",
    "    return{'loss': 1-acc, 'status': STATUS_OK }"
   ]
  },
  {
   "cell_type": "markdown",
   "metadata": {},
   "source": [
    "**Specify a search space**"
   ]
  },
  {
   "cell_type": "code",
   "execution_count": 15,
   "metadata": {},
   "outputs": [],
   "source": [
    "space = {\n",
    "    'max_depth' : hp.choice('max_depth', range(2, 20, 1)),\n",
    "    'learning_rate' : hp.quniform('learning_rate', 0.01, 0.5, 0.05),\n",
    "    'min_child_weight' : hp.quniform('min_child_weight', 1, 10, 1),\n",
    "    'subsample' : hp.quniform('subsample', 0.1, 1, 0.05),\n",
    "    'colsample_bytree' : hp.quniform('colsample_bytree', 0.1, 1.0, 0.05)\n",
    "}"
   ]
  },
  {
   "cell_type": "markdown",
   "metadata": {},
   "source": [
    "**Use `hypyeropt` to find the best hyperparameters for XGB**"
   ]
  },
  {
   "cell_type": "code",
   "execution_count": 16,
   "metadata": {},
   "outputs": [
    {
     "name": "stdout",
     "output_type": "stream",
     "text": [
      "100%|██████████| 5/5 [00:11<00:00,  2.33s/trial, best loss: 0.16549999999999998]\n"
     ]
    }
   ],
   "source": [
    "best_hypers = fmin(\n",
    "    fn=objective,   \n",
    "    space=space,       \n",
    "    algo=tpe.suggest,       \n",
    "    max_evals=5\n",
    ")"
   ]
  },
  {
   "cell_type": "code",
   "execution_count": 17,
   "metadata": {},
   "outputs": [
    {
     "name": "stdout",
     "output_type": "stream",
     "text": [
      "Best Hpyerparameters:  {'colsample_bytree': 0.45, 'learning_rate': 0.05, 'max_depth': 2, 'min_child_weight': 10.0, 'subsample': 0.25}\n"
     ]
    }
   ],
   "source": [
    "print(\"Best Hpyerparameters: \", best_hypers)"
   ]
  },
  {
   "cell_type": "markdown",
   "metadata": {},
   "source": [
    "**Fit the tuned XGB with SMOTE data**"
   ]
  },
  {
   "cell_type": "code",
   "execution_count": 19,
   "metadata": {},
   "outputs": [
    {
     "name": "stdout",
     "output_type": "stream",
     "text": [
      "Training accuracy score: 0.834\n",
      "Training AUC score: 0.698\n"
     ]
    }
   ],
   "source": [
    "xgb_tuned = xgb.XGBClassifier(\n",
    "    max_depth = best_hypers['max_depth'],\n",
    "    learning_rate = best_hypers['learning_rate'],\n",
    "    min_child_weight = best_hypers['min_child_weight'],\n",
    "    subsample = best_hypers['subsample'],\n",
    "    colsample_bytree = best_hypers['colsample_bytree'],\n",
    "    use_label_encoder=False, eval_metric='logloss'\n",
    ")\n",
    "xgb_tuned.fit(X_smote, y_smote)\n",
    "dump(xgb_tuned,  '../models/jason_xgboost_tuned_smote.joblib')\n",
    "\n",
    "acc_scores = cross_val_score(xgb_tuned, train_scaled, target, scoring='accuracy', cv=kfold)\n",
    "auc_scores = cross_val_score(xgb_tuned, train_scaled, target, scoring='roc_auc', cv=kfold)\n",
    "\n",
    "print(\"Training accuracy score: {:.3f}\".format(acc_scores.mean()))\n",
    "print(\"Training AUC score: {:.3f}\".format(auc_scores.mean()))\n",
    "\n",
    "save_prediction(xgb_tuned, test_scaled, test_id, 'rf_tuned_smote_pred')"
   ]
  }
 ],
 "metadata": {
  "accelerator": "TPU",
  "colab": {
   "authorship_tag": "ABX9TyNpdBttY1d9o8OBSWN+B526",
   "collapsed_sections": [],
   "name": "nba prediction.ipynb",
   "provenance": []
  },
  "kernelspec": {
   "display_name": "Python 3",
   "language": "python",
   "name": "python3"
  },
  "language_info": {
   "codemirror_mode": {
    "name": "ipython",
    "version": 3
   },
   "file_extension": ".py",
   "mimetype": "text/x-python",
   "name": "python",
   "nbconvert_exporter": "python",
   "pygments_lexer": "ipython3",
   "version": "3.8.12"
  }
 },
 "nbformat": 4,
 "nbformat_minor": 4
}
