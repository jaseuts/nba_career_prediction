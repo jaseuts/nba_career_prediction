{
 "cells": [
  {
   "cell_type": "code",
   "execution_count": 1,
   "id": "ba03cc53-4706-4d88-bed1-c35fc88139a0",
   "metadata": {},
   "outputs": [],
   "source": [
    "%load_ext autoreload\n",
    "%autoreload 2"
   ]
  },
  {
   "cell_type": "code",
   "execution_count": 2,
   "id": "8de4559d-0b5f-4354-8b4a-4015b490c671",
   "metadata": {},
   "outputs": [],
   "source": [
    "from src.data.data_prep import Dataset"
   ]
  },
  {
   "cell_type": "code",
   "execution_count": null,
   "id": "b7a0af6e-c43f-4798-a112-495189118b60",
   "metadata": {},
   "outputs": [],
   "source": [
    "import sys  \n",
    "sys.path.insert(0, '/path/to/application/app/folder')"
   ]
  },
  {
   "cell_type": "code",
   "execution_count": null,
   "id": "1b79b4a4-6d0f-4d20-8cfc-7213a2bab62e",
   "metadata": {},
   "outputs": [],
   "source": [
    "test = Dataset('test.csv')"
   ]
  },
  {
   "cell_type": "code",
   "execution_count": null,
   "id": "2c69b38a-fafe-4a57-bfff-8ffbefd399c3",
   "metadata": {},
   "outputs": [],
   "source": [
    "type(test)"
   ]
  },
  {
   "cell_type": "code",
   "execution_count": null,
   "id": "f6f85008-465d-4e64-bd2c-4177fa0ac0a4",
   "metadata": {},
   "outputs": [],
   "source": [
    "test.load_data()"
   ]
  },
  {
   "cell_type": "code",
   "execution_count": null,
   "id": "8be594e5-87f1-4156-accc-605db7ed45f3",
   "metadata": {},
   "outputs": [],
   "source": [
    "def test(name):\n",
    "    if name.split('.')[1] == 'csv':\n",
    "        print(name)\n",
    "    else: \n",
    "        print('check')"
   ]
  },
  {
   "cell_type": "code",
   "execution_count": null,
   "id": "ef5f9051-f00b-40fa-a865-7d51b714f77c",
   "metadata": {},
   "outputs": [],
   "source": [
    "import pandas as pd\n",
    "path = '../data/'\n",
    "file = 'test.csv'\n",
    "test =  pd.read_csv(path+'raw/'+file)"
   ]
  },
  {
   "cell_type": "code",
   "execution_count": null,
   "id": "d7d12149-68f1-4d59-bc64-eeb7749dcf72",
   "metadata": {},
   "outputs": [],
   "source": [
    "import pandas as pd\n",
    "test = pd.read_csv('../data/raw/train.csv')"
   ]
  },
  {
   "cell_type": "code",
   "execution_count": null,
   "id": "d80d9a5a-0823-4632-b2e6-643139aeaaef",
   "metadata": {},
   "outputs": [],
   "source": []
  }
 ],
 "metadata": {
  "kernelspec": {
   "display_name": "Python 3 (ipykernel)",
   "language": "python",
   "name": "python3"
  },
  "language_info": {
   "codemirror_mode": {
    "name": "ipython",
    "version": 3
   },
   "file_extension": ".py",
   "mimetype": "text/x-python",
   "name": "python",
   "nbconvert_exporter": "python",
   "pygments_lexer": "ipython3",
   "version": "3.9.6"
  }
 },
 "nbformat": 4,
 "nbformat_minor": 5
}
