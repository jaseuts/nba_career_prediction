{
 "cells": [
  {
   "cell_type": "code",
   "execution_count": null,
   "metadata": {
    "executionInfo": {
     "elapsed": 11,
     "status": "ok",
     "timestamp": 1644654774277,
     "user": {
      "displayName": "Jason Nguyen",
      "photoUrl": "https://lh3.googleusercontent.com/a/default-user=s64",
      "userId": "08127932565725073314"
     },
     "user_tz": -660
    },
    "id": "r6H7fiiwP8_-"
   },
   "outputs": [],
   "source": [
    "import numpy as np\n",
    "import pandas as pd\n",
    "import warnings\n",
    "from joblib import dump\n",
    "import seaborn as sns\n",
    "import matplotlib.pyplot as plt\n",
    "from matplotlib.pyplot import figure\n",
    "from sklearn.preprocessing import StandardScaler\n",
    "from sklearn.model_selection import train_test_split\n",
    "from sklearn.model_selection import StratifiedKFold\n",
    "from sklearn.model_selection import cross_val_score\n",
    "from sklearn.svm import SVC\n",
    "from sklearn.linear_model import LogisticRegression\n",
    "from sklearn.tree import DecisionTreeClassifier\n",
    "from sklearn.ensemble import RandomForestClassifier\n",
    "from sklearn.naive_bayes import GaussianNB\n",
    "from sklearn.neighbors import KNeighborsClassifier\n",
    "from imblearn.over_sampling import SMOTE\n",
    "\n",
    "%matplotlib inline"
   ]
  },
  {
   "cell_type": "markdown",
   "metadata": {
    "id": "ye4XgfrBguD1"
   },
   "source": [
    "**1. LOAD THE TRAIN DATA**"
   ]
  },
  {
   "cell_type": "code",
   "execution_count": null,
   "metadata": {
    "colab": {
     "base_uri": "https://localhost:8080/",
     "height": 225
    },
    "executionInfo": {
     "elapsed": 925,
     "status": "ok",
     "timestamp": 1644588069802,
     "user": {
      "displayName": "Jason Nguyen",
      "photoUrl": "https://lh3.googleusercontent.com/a/default-user=s64",
      "userId": "08127932565725073314"
     },
     "user_tz": -660
    },
    "id": "zPcPbAZ8QLxm",
    "outputId": "6c89e1d0-92f4-4eb0-fded-fe893378d6bb"
   },
   "outputs": [],
   "source": [
    "train = pd.read_csv('../data/raw/train.csv')\n",
    "print('Size of train data', train.shape)\n",
    "train.head()"
   ]
  },
  {
   "cell_type": "markdown",
   "metadata": {
    "id": "SGhjGgTeNcTA"
   },
   "source": [
    "**2. LOAD THE TEST DATA**"
   ]
  },
  {
   "cell_type": "code",
   "execution_count": null,
   "metadata": {
    "colab": {
     "base_uri": "https://localhost:8080/",
     "height": 225
    },
    "executionInfo": {
     "elapsed": 992,
     "status": "ok",
     "timestamp": 1644588137435,
     "user": {
      "displayName": "Jason Nguyen",
      "photoUrl": "https://lh3.googleusercontent.com/a/default-user=s64",
      "userId": "08127932565725073314"
     },
     "user_tz": -660
    },
    "id": "FJHPmHt5Nc5c",
    "outputId": "34ed281a-a950-41b1-bc2f-dd5ea0e346bd"
   },
   "outputs": [],
   "source": [
    "test = pd.read_csv('../data/raw/test.csv')\n",
    "print('Size of test data', test.shape)\n",
    "test.head()"
   ]
  },
  {
   "cell_type": "markdown",
   "metadata": {
    "id": "RrwJQg-QhZol"
   },
   "source": [
    "**3. SUMMARISE THE TRAIN DATA**"
   ]
  },
  {
   "cell_type": "code",
   "execution_count": null,
   "metadata": {
    "colab": {
     "base_uri": "https://localhost:8080/",
     "height": 850
    },
    "executionInfo": {
     "elapsed": 293,
     "status": "ok",
     "timestamp": 1644142578165,
     "user": {
      "displayName": "Jason Nguyen",
      "photoUrl": "https://lh3.googleusercontent.com/a/default-user=s64",
      "userId": "08127932565725073314"
     },
     "user_tz": -660
    },
    "id": "iHJgNu4tPF_t",
    "outputId": "a69af5a3-df80-4374-f1d3-3401d6354cf2"
   },
   "outputs": [],
   "source": [
    "print(train.info())\n",
    "train.describe()"
   ]
  },
  {
   "cell_type": "markdown",
   "metadata": {},
   "source": [
    "**4. SUMMARISE THE TEST DATA**"
   ]
  },
  {
   "cell_type": "code",
   "execution_count": null,
   "metadata": {},
   "outputs": [],
   "source": [
    "print(test.info())\n",
    "test.describe()"
   ]
  },
  {
   "cell_type": "markdown",
   "metadata": {
    "id": "10Eo1Q_lz3r9"
   },
   "source": [
    "**5. PREPARE THE TRAIN AND TEST DATA**"
   ]
  },
  {
   "cell_type": "code",
   "execution_count": null,
   "metadata": {},
   "outputs": [],
   "source": [
    "%load_ext autoreload\n",
    "%autoreload 2"
   ]
  },
  {
   "cell_type": "code",
   "execution_count": null,
   "metadata": {
    "colab": {
     "base_uri": "https://localhost:8080/"
    },
    "executionInfo": {
     "elapsed": 826,
     "status": "ok",
     "timestamp": 1644588189475,
     "user": {
      "displayName": "Jason Nguyen",
      "photoUrl": "https://lh3.googleusercontent.com/a/default-user=s64",
      "userId": "08127932565725073314"
     },
     "user_tz": -660
    },
    "id": "FnFF5lOdF8_C",
    "outputId": "b5ccca6e-3d78-4d8e-c615-676c3915d701"
   },
   "outputs": [],
   "source": [
    "train_cleaned, target =  clean_train(train)\n",
    "test_cleaned, test_id =  clean_test(test)"
   ]
  },
  {
   "cell_type": "markdown",
   "metadata": {},
   "source": [
    "**6. EXPLORATORY DATA ANALYSIS**"
   ]
  },
  {
   "cell_type": "markdown",
   "metadata": {
    "id": "O38EW0bL9SJX"
   },
   "source": [
    "**6A. Summary of different scales of the features in the train data**\n",
    "\n",
    "The differences of the variables' `standard deviations` show those variables have different scales"
   ]
  },
  {
   "cell_type": "code",
   "execution_count": null,
   "metadata": {
    "colab": {
     "base_uri": "https://localhost:8080/"
    },
    "executionInfo": {
     "elapsed": 326,
     "status": "ok",
     "timestamp": 1644142611759,
     "user": {
      "displayName": "Jason Nguyen",
      "photoUrl": "https://lh3.googleusercontent.com/a/default-user=s64",
      "userId": "08127932565725073314"
     },
     "user_tz": -660
    },
    "id": "u28_jWMXaJIR",
    "outputId": "5cb7d792-a0e7-474d-dafa-a3220a189c6f"
   },
   "outputs": [],
   "source": [
    "stats = train_cleaned.describe()\n",
    "print(f'''\n",
    "Min of STD: {stats.loc['std'].min()} \n",
    "Std of STD: {stats.loc['std'].std()}\n",
    "Max of STD: {stats.loc['std'].max()}''')"
   ]
  },
  {
   "cell_type": "code",
   "execution_count": null,
   "metadata": {},
   "outputs": [],
   "source": [
    "stats = train.describe()\n",
    "print(f'''\n",
    "Min of STD: {stats.loc['std'].min()} \n",
    "Std of STD: {stats.loc['std'].std()}\n",
    "Max of STD: {stats.loc['std'].max()}''')"
   ]
  },
  {
   "cell_type": "markdown",
   "metadata": {
    "id": "GAkwjBXwlFMg"
   },
   "source": [
    "**6B. Visualise the data distributions of the train's columns**"
   ]
  },
  {
   "cell_type": "code",
   "execution_count": null,
   "metadata": {
    "colab": {
     "base_uri": "https://localhost:8080/",
     "height": 553
    },
    "executionInfo": {
     "elapsed": 7683,
     "status": "ok",
     "timestamp": 1644143241036,
     "user": {
      "displayName": "Jason Nguyen",
      "photoUrl": "https://lh3.googleusercontent.com/a/default-user=s64",
      "userId": "08127932565725073314"
     },
     "user_tz": -660
    },
    "id": "r0PL939yQL_w",
    "outputId": "84c8292a-fc73-4c03-9466-5eb50e065ac6"
   },
   "outputs": [],
   "source": [
    "X = train.drop('Id', axis=1)\n",
    "fig, ax = plt.subplots(4, 5, sharex='col', sharey='row', figsize=(13,9))\n",
    "\n",
    "k = 0\n",
    "for i in range(4):\n",
    "    for j in range(5):\n",
    "        ax[i, j].hist(X.iloc[:, k])\n",
    "        ax[i, j].set_title(X.columns[k])\n",
    "        k +=1"
   ]
  },
  {
   "cell_type": "markdown",
   "metadata": {
    "id": "kyULhijwkVZq"
   },
   "source": [
    "**6C. Distribution of the target variable in the train data**\n",
    "\n",
    "It shows the dataset is imbalance with 83% of NBA players staying at least 5 years in the league."
   ]
  },
  {
   "cell_type": "code",
   "execution_count": null,
   "metadata": {
    "colab": {
     "base_uri": "https://localhost:8080/",
     "height": 324
    },
    "executionInfo": {
     "elapsed": 313,
     "status": "ok",
     "timestamp": 1644454221541,
     "user": {
      "displayName": "Jason Nguyen",
      "photoUrl": "https://lh3.googleusercontent.com/a/default-user=s64",
      "userId": "08127932565725073314"
     },
     "user_tz": -660
    },
    "id": "l3fv9bObOky0",
    "outputId": "a8ef5372-6b76-48dc-c852-f9d79f3ec898"
   },
   "outputs": [],
   "source": [
    "fig = train['TARGET_5Yrs'].hist()\n",
    "plt.show(fig)\n",
    "print(len(train[train['TARGET_5Yrs']==0]), 'rows of TARGET_5Yrs for category 0')\n",
    "print(len(train[train['TARGET_5Yrs']==1]), 'rows of TARGET_5Yrs for category 1')\n",
    "print('proportion of category 1 in the column TARGET_5Yrs: ', \n",
    "      '{:.0%}'.format(len(train[train['TARGET_5Yrs']==1])/len(train), 2))"
   ]
  },
  {
   "cell_type": "markdown",
   "metadata": {
    "id": "EWYSXMSHQMF3"
   },
   "source": [
    "**8. SCALE THE TRAIN AND TEST DATA THEN SAVE THE SCALE TRANFORMER** "
   ]
  },
  {
   "cell_type": "code",
   "execution_count": null,
   "metadata": {
    "colab": {
     "base_uri": "https://localhost:8080/"
    },
    "executionInfo": {
     "elapsed": 303,
     "status": "ok",
     "timestamp": 1644401880753,
     "user": {
      "displayName": "Jason Nguyen",
      "photoUrl": "https://lh3.googleusercontent.com/a/default-user=s64",
      "userId": "08127932565725073314"
     },
     "user_tz": -660
    },
    "id": "PFz0oiYZQMIq",
    "outputId": "f7d74236-dede-49ef-e8a4-c5ab064b5c8b"
   },
   "outputs": [],
   "source": [
    "scaler = StandardScaler()\n",
    "train_scaled = scaler.fit_transform(train_cleaned)\n",
    "test_scaled = scaler.transform(test_cleaned)\n",
<<<<<<< HEAD
    "dump(scaler, '../models/jason_scaler.joblib')"
=======
    "dump(scaler, '../models/scaler.joblib')"
<<<<<<< HEAD
>>>>>>> a15a054 (jason trained  default logistic regression with SOMTE oversampled data)
=======
>>>>>>> a15a054ea3b80b4ab0ae7c9e65f3a8131871dd23
>>>>>>> master
   ]
  },
  {
   "cell_type": "markdown",
   "metadata": {
    "id": "vvpr136xSeWt"
   },
   "source": [
    "**9. SAVE THE SCALED TRAIN , VALIDATION AND TEST SETS AND THEIR TARGET** \n",
    "\n",
    "As the train data is relatively smaill, we decided not create a validation set from it. <br>\n",
    "We also saved the test_id variable for use later."
   ]
  },
  {
   "cell_type": "code",
   "execution_count": null,
   "metadata": {
    "id": "4WYKkndEQMLI"
   },
   "outputs": [],
   "source": [
<<<<<<< HEAD
    "from src.data.jason_sets import save_sets\n",
=======
    "from src.data.sets import save_sets\n",
<<<<<<< HEAD
>>>>>>> a15a054 (jason trained  default logistic regression with SOMTE oversampled data)
=======
>>>>>>> a15a054ea3b80b4ab0ae7c9e65f3a8131871dd23
>>>>>>> master
    "\n",
    "save_sets(X_train=train_scaled, y_train=target, X_val=None, y_val=None, \n",
    "          X_test=test_scaled, y_test=None, test_id=test_id, path='../data/processed/')"
   ]
  },
  {
   "cell_type": "markdown",
   "metadata": {
    "id": "oX0utSNrc7QL"
   },
   "source": [
    "**10. FIT VARIOUS MODELS TO IDENTIFY THE BEST ONE**"
   ]
  },
  {
   "cell_type": "code",
   "execution_count": null,
   "metadata": {
    "colab": {
     "base_uri": "https://localhost:8080/"
    },
    "executionInfo": {
     "elapsed": 26959,
     "status": "ok",
     "timestamp": 1644469448576,
     "user": {
      "displayName": "Jason Nguyen",
      "photoUrl": "https://lh3.googleusercontent.com/a/default-user=s64",
      "userId": "08127932565725073314"
     },
     "user_tz": -660
    },
    "id": "5xkuVkQLX91v",
    "outputId": "ee68202d-42b2-4f10-b321-e756f6f95630"
   },
   "outputs": [],
   "source": [
    "from src.models.train_model import classification_model\n",
    "\n",
    "models = [LogisticRegression(),\n",
    "          GaussianNB(),\n",
    "          RandomForestClassifier(),\n",
    "          SVC(),\n",
    "          KNeighborsClassifier(),\n",
    "          DecisionTreeClassifier()]      \n",
    "          \n",
    "for model in models:\n",
    "    score = classification_model(model, train_scaled, target)\n",
    "    print(f'AUC score of {model.__class__.__name__} is {score:.4f}')"
   ]
  },
  {
   "cell_type": "markdown",
   "metadata": {
    "id": "rW-mVFJyDubB"
   },
   "source": [
    "**11. USE THE BEST MODEL TO PREDICT ON TEST DATA AND SAVE THE RESULT**"
   ]
  },
  {
   "cell_type": "code",
   "execution_count": null,
   "metadata": {
    "id": "If4c0HgjpXZD"
   },
   "outputs": [],
   "source": [
    "from src.models.predict_model import save_prediction\n",
    "\n",
    "logistic = LogisticRegression()\n",
    "logistic.fit(train_scaled, target)\n",
    "dump(logistic,  '../models/logistic_default.joblib')\n",
    "\n",
    "save_prediction(logistic, test_scaled, test_id, 'logistic_default_prediction')"
   ]
  },
  {
   "cell_type": "markdown",
   "metadata": {
    "id": "lMOrHkCxn8nQ"
   },
   "source": [
    "**12. EVALUATE THE PERFORMANCE OF LOGISTIC REGRESSION ON THE DATA OVERSAMPED WITH SMOTE**"
   ]
  },
  {
   "cell_type": "code",
   "execution_count": null,
   "metadata": {
    "colab": {
     "base_uri": "https://localhost:8080/"
    },
    "executionInfo": {
     "elapsed": 1464,
     "status": "ok",
     "timestamp": 1644620005463,
     "user": {
      "displayName": "Jason Nguyen",
      "photoUrl": "https://lh3.googleusercontent.com/a/default-user=s64",
      "userId": "08127932565725073314"
     },
     "user_tz": -660
    },
    "id": "PUAg8NhtpYQX",
    "outputId": "d64edb2b-d9a9-4838-cf3d-6c8a8dd6c252"
   },
   "outputs": [],
   "source": [
    "oversample = SMOTE()\n",
    "X, y = oversample.fit_resample(train_scaled, target)\n",
    "kfold = StratifiedKFold(n_splits=5, shuffle=True, random_state=2)\n",
    "scores = cross_val_score(LogisticRegression(max_iter=200), X, y, scoring='roc_auc', cv=kfold)\n",
    "scores.mean()"
   ]
  },
  {
   "cell_type": "markdown",
   "metadata": {
    "id": "soKnwMuzAdtN"
   },
   "source": [
    "**13. FIT LOGISTIC REGRESSION WITH SMOTE DATA AND SAVE THE PREIDCTION RESULT**"
   ]
  },
  {
   "cell_type": "code",
   "execution_count": null,
   "metadata": {
    "id": "kFkD_p0HYwU_"
   },
   "outputs": [],
   "source": [
    "logistic = LogisticRegression()\n",
    "logistic.fit(X, y)\n",
    "dump(logistic,  '../jason_logistic_default_smote.joblib')\n",
    "\n",
    "save_prediction(logistic, test_scaled, test_id, 'logistic_default_smote_pred')"
   ]
  }
 ],
 "metadata": {
  "accelerator": "TPU",
  "colab": {
   "authorship_tag": "ABX9TyNpdBttY1d9o8OBSWN+B526",
   "collapsed_sections": [],
   "name": "nba prediction.ipynb",
   "provenance": []
  },
  "kernelspec": {
   "display_name": "Python 3",
   "language": "python",
   "name": "python3"
  },
  "language_info": {
   "codemirror_mode": {
    "name": "ipython",
    "version": 3
   },
   "file_extension": ".py",
   "mimetype": "text/x-python",
   "name": "python",
   "nbconvert_exporter": "python",
   "pygments_lexer": "ipython3",
   "version": "3.8.8"
  }
 },
 "nbformat": 4,
 "nbformat_minor": 4
}
